{
 "cells": [
  {
   "cell_type": "code",
   "execution_count": 1,
   "id": "94bd8635-ad79-4620-85c9-0ea0a92b2f67",
   "metadata": {},
   "outputs": [],
   "source": [
    "%matplotlib inline\n",
    "from modelclass import *"
   ]
  },
  {
   "cell_type": "code",
   "execution_count": null,
   "id": "a4ec40d3-25c9-4c15-b4cf-9bef7ae04dd6",
   "metadata": {},
   "outputs": [],
   "source": []
  },
  {
   "cell_type": "code",
   "execution_count": 2,
   "id": "e10435c6-4086-48fe-8457-adab57998021",
   "metadata": {},
   "outputs": [],
   "source": [
    "Nd = 3\n",
    "\n",
    "n_dq = 1\n",
    "\n",
    "n_fermion = np.array(\n",
    "    [[0,1,0,0,0],\n",
    "    [6,0,0,0,0],\n",
    "    [0,0,1,0,0],\n",
    "    [0,0,0,0,0],\n",
    "    [0,0,0,0,0]\n",
    "])\n",
    "\n",
    "n_scalar = np.array(\n",
    "    [[0,0,0,0,0],\n",
    "    [0,0,0,0,0],\n",
    "    [0,0,0,0,0],\n",
    "    [0,0,0,0,0],\n",
    "    [0,0,0,0,0]\n",
    "])\n",
    "\n",
    "MC = ModelClass(n_fermion, n_scalar, n_dq, Nd)"
   ]
  },
  {
   "cell_type": "code",
   "execution_count": 3,
   "id": "3acb01a2-dd51-441b-8835-ccb45e5bc726",
   "metadata": {},
   "outputs": [
    {
     "data": {
      "text/plain": [
       "'M = 1.902e+13, LdQCD = 1.084e+06'"
      ]
     },
     "execution_count": 3,
     "metadata": {},
     "output_type": "execute_result"
    }
   ],
   "source": [
    "alphas_UV = [0.3, 0.3]\n",
    "L, M = MC.Lambda_dQCD_M(alphas_UV)\n",
    "f'M = {M:.3e}, LdQCD = {L:.3e}'"
   ]
  },
  {
   "cell_type": "code",
   "execution_count": null,
   "id": "23584aeb-3cad-4e2c-a6f1-577c706f5177",
   "metadata": {},
   "outputs": [],
   "source": []
  }
 ],
 "metadata": {
  "kernelspec": {
   "display_name": "Python 3 (ipykernel)",
   "language": "python",
   "name": "python3"
  },
  "language_info": {
   "codemirror_mode": {
    "name": "ipython",
    "version": 3
   },
   "file_extension": ".py",
   "mimetype": "text/x-python",
   "name": "python",
   "nbconvert_exporter": "python",
   "pygments_lexer": "ipython3",
   "version": "3.10.4"
  }
 },
 "nbformat": 4,
 "nbformat_minor": 5
}
