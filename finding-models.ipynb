{
 "cells": [
  {
   "cell_type": "code",
   "execution_count": 1,
   "id": "94bd8635-ad79-4620-85c9-0ea0a92b2f67",
   "metadata": {},
   "outputs": [],
   "source": [
    "%matplotlib inline\n",
    "from modelclass import *"
   ]
  },
  {
   "cell_type": "markdown",
   "id": "5889b73c-932a-4b09-8066-d959bb8cc514",
   "metadata": {},
   "source": [
    "Finding a model with a low value of $M$"
   ]
  },
  {
   "cell_type": "code",
   "execution_count": 95,
   "id": "e10435c6-4086-48fe-8457-adab57998021",
   "metadata": {},
   "outputs": [],
   "source": [
    "Nd = 2\n",
    "\n",
    "n_dq = 1\n",
    "\n",
    "n_fermion = np.array(\n",
    "    [[0,4,0,0,0],\n",
    "    [7,0,0,0,0],\n",
    "    [0,1,0,0,0],\n",
    "    [0,0,0,0,0],\n",
    "    [0,0,0,0,0]\n",
    "])\n",
    "\n",
    "n_scalar = np.array(\n",
    "    [[0,0,0,0,0],\n",
    "    [0,0,0,0,0],\n",
    "    [0,0,0,0,0],\n",
    "    [0,0,0,0,0],\n",
    "    [0,0,0,0,0]\n",
    "])\n",
    "\n",
    "MC = ModelClass(n_fermion, n_scalar, n_dq, Nd)"
   ]
  },
  {
   "cell_type": "code",
   "execution_count": 96,
   "id": "c1a95b69-33cc-4696-87fd-27d75211ec8a",
   "metadata": {},
   "outputs": [
    {
     "data": {
      "text/plain": [
       "([0.05305164769729842,\n",
       "  1.9419893531448076,\n",
       "  0.18997721932938333,\n",
       "  -0.10610329539459684,\n",
       "  0.46016704237561745,\n",
       "  0.5066059182116889],\n",
       " array([-0.05589423,  0.29211054]))"
      ]
     },
     "execution_count": 96,
     "metadata": {},
     "output_type": "execute_result"
    }
   ],
   "source": [
    "MC.UV.coeffs, MC.UV.fixed_point"
   ]
  },
  {
   "cell_type": "code",
   "execution_count": 97,
   "id": "3acb01a2-dd51-441b-8835-ccb45e5bc726",
   "metadata": {},
   "outputs": [
    {
     "data": {
      "text/plain": [
       "'M = 1.455e+04, LdQCD = 4.114e+02'"
      ]
     },
     "execution_count": 97,
     "metadata": {},
     "output_type": "execute_result"
    }
   ],
   "source": [
    "alphas_UV = [0.3, 0.3]\n",
    "L, M = MC.Lambda_dQCD_M(alphas_UV)\n",
    "f'M = {M:.3e}, LdQCD = {L:.3e}'"
   ]
  },
  {
   "cell_type": "code",
   "execution_count": 98,
   "id": "23584aeb-3cad-4e2c-a6f1-577c706f5177",
   "metadata": {},
   "outputs": [
    {
     "data": {
      "text/plain": [
       "Text(0, 0.5, '$\\\\alpha$')"
      ]
     },
     "execution_count": 98,
     "metadata": {},
     "output_type": "execute_result"
    },
    {
     "data": {
      "image/png": "[encoded data removed]",
      "text/plain": [
       "<Figure size 432x288 with 1 Axes>"
      ]
     },
     "metadata": {
      "needs_background": "light"
     },
     "output_type": "display_data"
    }
   ],
   "source": [
    "fig, ax = plt.subplots()\n",
    "\n",
    "IR_evol_s = MC.EFT.coupling_evolution([cn.alpha_s_MZ, 0], cn.MZ, cn.mu_UV)\n",
    "UV_evol = MC.UV.coupling_evolution(alphas_UV, cn.mu_UV, 1e1)\n",
    "\n",
    "ax.plot(np.exp(UV_evol.t), UV_evol.y[0])\n",
    "ax.plot(np.exp(UV_evol.t), UV_evol.y[1])\n",
    "ax.plot(np.exp(IR_evol_s.t), IR_evol_s.y[0])\n",
    "\n",
    "ax.set_ylim(0,1)\n",
    "ax.set_xscale('log')\n",
    "\n",
    "ax.set_xlabel(r'$\\mu$ (GeV)')\n",
    "ax.set_ylabel(r'$\\alpha$')"
   ]
  },
  {
   "cell_type": "code",
   "execution_count": null,
   "id": "d776641d-7c35-4b9d-88c7-c0504f643377",
   "metadata": {},
   "outputs": [],
   "source": []
  }
 ],
 "metadata": {
  "kernelspec": {
   "display_name": "Python 3 (ipykernel)",
   "language": "python",
   "name": "python3"
  },
  "language_info": {
   "codemirror_mode": {
    "name": "ipython",
    "version": 3
   },
   "file_extension": ".py",
   "mimetype": "text/x-python",
   "name": "python",
   "nbconvert_exporter": "python",
   "pygments_lexer": "ipython3",
   "version": "3.10.4"
  }
 },
 "nbformat": 4,
 "nbformat_minor": 5
}
