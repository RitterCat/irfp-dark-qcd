{
 "cells": [
  {
   "cell_type": "code",
   "execution_count": 2,
   "metadata": {},
   "outputs": [],
   "source": [
    "%matplotlib inline\n",
    "from modelclass import *"
   ]
  },
  {
   "cell_type": "markdown",
   "metadata": {},
   "source": [
    "Finding a model with a low value of $M$"
   ]
  },
  {
   "cell_type": "code",
   "execution_count": 20,
   "metadata": {},
   "outputs": [],
   "source": [
    "Nd = 2\n",
    "\n",
    "n_dq = 1\n",
    "\n",
    "n_fermion = np.array(\n",
    "    [[0,4,0,0,0],\n",
    "    [7,0,0,0,0],\n",
    "    [0,1,0,0,0],\n",
    "    [0,0,0,0,0],\n",
    "    [0,0,0,0,0]\n",
    "])\n",
    "\n",
    "n_scalar = np.array(\n",
    "    [[0,0,0,0,0],\n",
    "    [0,0,0,0,0],\n",
    "    [0,0,0,0,0],\n",
    "    [0,0,0,0,0],\n",
    "    [0,0,0,0,0]\n",
    "])\n",
    "\n",
    "MC = ModelClass(n_fermion, n_scalar, n_dq, Nd)"
   ]
  },
  {
   "cell_type": "code",
   "execution_count": 21,
   "metadata": {},
   "outputs": [
    {
     "data": {
      "text/plain": [
       "([0.05305164769729842,\n",
       "  1.9419893531448076,\n",
       "  0.18997721932938333,\n",
       "  -0.10610329539459684,\n",
       "  0.46016704237561745,\n",
       "  0.5066059182116889],\n",
       " array([-0.05589423,  0.29211054]))"
      ]
     },
     "execution_count": 21,
     "metadata": {},
     "output_type": "execute_result"
    }
   ],
   "source": [
    "MC.UV.coeffs, MC.UV.fixed_point"
   ]
  },
  {
   "cell_type": "code",
   "execution_count": 31,
   "metadata": {},
   "outputs": [
    {
     "data": {
      "text/plain": [
       "'M = 2.548e+05, LdQCD = 1.150e+04'"
      ]
     },
     "execution_count": 31,
     "metadata": {},
     "output_type": "execute_result"
    }
   ],
   "source": [
    "alphas_UV = [0.1, 0.3]\n",
    "L, M = MC.Lambda_dQCD_M(alphas_UV)\n",
    "f'M = {M:.3e}, LdQCD = {L:.3e}'"
   ]
  },
  {
   "cell_type": "code",
   "execution_count": 32,
   "metadata": {},
   "outputs": [
    {
     "data": {
      "text/plain": [
       "Text(0, 0.5, '$\\\\alpha$')"
      ]
     },
     "execution_count": 32,
     "metadata": {},
     "output_type": "execute_result"
    },
    {
     "data": {
      "image/png": "[encoded data removed]",
      "text/plain": [
       "<Figure size 432x288 with 1 Axes>"
      ]
     },
     "metadata": {
      "needs_background": "light"
     },
     "output_type": "display_data"
    }
   ],
   "source": [
    "fig, ax = plt.subplots()\n",
    "\n",
    "IR_evol_s = MC.EFT.coupling_evolution([cn.alpha_s_MZ, 0], cn.MZ, cn.mu_UV)\n",
    "UV_evol = MC.UV.coupling_evolution(alphas_UV, cn.mu_UV, 1e1)\n",
    "\n",
    "ax.plot(np.exp(UV_evol.t), UV_evol.y[0])\n",
    "ax.plot(np.exp(UV_evol.t), UV_evol.y[1])\n",
    "ax.plot(np.exp(IR_evol_s.t), IR_evol_s.y[0])\n",
    "\n",
    "ax.set_ylim(0,1)\n",
    "ax.set_xscale('log')\n",
    "\n",
    "ax.set_xlabel(r'$\\mu$ (GeV)', fontsize=16)\n",
    "ax.set_ylabel(r'$\\alpha$', fontsize=16)"
   ]
  },
  {
   "cell_type": "code",
   "execution_count": 33,
   "metadata": {},
   "outputs": [
    {
     "data": {
      "text/plain": [
       "Text(0, 0.5, '$\\\\alpha^{-1}$')"
      ]
     },
     "execution_count": 33,
     "metadata": {},
     "output_type": "execute_result"
    },
    {
     "data": {
      "image/png": "[encoded data removed]",
      "text/plain": [
       "<Figure size 432x288 with 1 Axes>"
      ]
     },
     "metadata": {
      "needs_background": "light"
     },
     "output_type": "display_data"
    }
   ],
   "source": [
    "fig, ax = plt.subplots()\n",
    "\n",
    "IR_evol_s = MC.EFT.coupling_evolution([cn.alpha_s_MZ, 0], cn.MZ, cn.mu_UV)\n",
    "UV_evol = MC.UV.coupling_evolution(alphas_UV, cn.mu_UV, 1e1)\n",
    "\n",
    "ax.plot(np.exp(UV_evol.t), 1/UV_evol.y[0])\n",
    "ax.plot(np.exp(UV_evol.t), 1/UV_evol.y[1])\n",
    "ax.plot(np.exp(IR_evol_s.t), 1/IR_evol_s.y[0])\n",
    "\n",
    "# ax.set_ylim(0,1)\n",
    "ax.set_xscale('log')\n",
    "\n",
    "ax.set_xlabel(r'$\\mu$ (GeV)', fontsize=16)\n",
    "ax.set_ylabel(r'$\\alpha^{-1}$', fontsize=16)"
   ]
  },
  {
   "cell_type": "code",
   "execution_count": null,
   "metadata": {},
   "outputs": [],
   "source": []
  },
  {
   "cell_type": "code",
   "execution_count": null,
   "metadata": {},
   "outputs": [],
   "source": []
  }
 ],
 "metadata": {
  "kernelspec": {
   "display_name": "Python 3",
   "language": "python",
   "name": "python3"
  },
  "language_info": {
   "codemirror_mode": {
    "name": "ipython",
    "version": 3
   },
   "file_extension": ".py",
   "mimetype": "text/x-python",
   "name": "python",
   "nbconvert_exporter": "python",
   "pygments_lexer": "ipython3",
   "version": "3.7.6"
  }
 },
 "nbformat": 4,
 "nbformat_minor": 5
}
